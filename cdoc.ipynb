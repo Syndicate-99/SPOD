# SPOD_LPf



import h5py
import numpy as np

# Load SPOD results from the HDF5 file
file_path = r'C:\Users\Kingstone\Desktop\All folder\codes\spod_python\SPOD_LPf.h5'  # Replace with your actual file path
with h5py.File(file_path, 'r') as f:
    modes = f['modes'][:]  # Extract SPOD modes
    freq = f['frequencies'][:]  # Extract frequency information
    eigenvalues = f['eigenvalues'][:]  # Extract eigenvalues

# Sort modes by eigenvalues (descending order)
sorted_indices = np.argsort(eigenvalues)[::-1]
dominant_modes = modes[sorted_indices[:3]]  # Select the top 3 modes

# Reconstruction using dominant modes
# Assuming you have weights or coefficients associated with the modes
weights = f['weights'][:]  # Replace with the actual weights dataset if available
reconstructed_data = np.sum(dominant_modes * weights[:len(dominant_modes)], axis=0)

# Reshape reconstructed data back to image dimensions
image_shape = (640, 512)  # Replace with actual image dimensions
reconstructed_images = reconstructed_data.reshape(-1, *image_shape)  # Reshape each frame

import matplotlib.pyplot as plt
original_images = r"D:\thermal images\FLIR_ADAS_1_3\train\thermal_8_bit\FLIR_00001.jpeg"
# Visualize an example
plt.figure(figsize=(10, 5))
plt.subplot(1, 2, 1)
plt.title("Original Image")
plt.imshow(original_images, cmap='gray')  # Replace with your original image
plt.subplot(1, 2, 2)
plt.title("Denoised Image")
plt.imshow(reconstructed_images[0], cmap='gray')  # Replace with reconstructed image
plt.show()
